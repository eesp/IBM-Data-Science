{
 "cells": [
  {
   "cell_type": "markdown",
   "id": "f42a9436-a483-4128-9e9b-19cb52f69f60",
   "metadata": {},
   "source": [
    "<center>\n",
    "    <img src=\"https://cf-courses-data.s3.us.cloud-object-storage.appdomain.cloud/IBMDeveloperSkillsNetwork-DS0105EN-SkillsNetwork/labs/Module2/images/SN_web_lightmode.png\" width=\"300\" alt=\"cognitiveclass.ai logo\">\n",
    "</center>\n"
   ]
  },
  {
   "cell_type": "markdown",
   "id": "d7cc5b9d-7bd2-482a-a442-808720a297a2",
   "metadata": {},
   "source": [
    "# Data Science Tools and Ecosystem"
   ]
  },
  {
   "cell_type": "markdown",
   "id": "4a83d8cd-10cf-48e2-910a-ef9964f0f86b",
   "metadata": {},
   "source": [
    "## Author\n",
    "Scott Poirier\n"
   ]
  },
  {
   "cell_type": "markdown",
   "id": "f4a4735a-7893-4473-8ba4-98332689c021",
   "metadata": {},
   "source": [
    "In this notebook, Data Science Tools and Ecosystem are summarized."
   ]
  },
  {
   "cell_type": "markdown",
   "id": "209f75fb-4890-49af-9606-167bd7c089a7",
   "metadata": {},
   "source": [
    "**Objectives:**\n",
    "* Demonstrate arithmetic expressions\n",
    "* Create a table in a markdown\n",
    "* List common data science libraries\n"
   ]
  },
  {
   "cell_type": "markdown",
   "id": "0153255a-1dd1-49e4-9d70-9361975effa2",
   "metadata": {},
   "source": [
    "Some of the popular languages that Data Scientists use are:\n",
    "1. Python\n",
    "2. R\n",
    "3. Java\n",
    "4. Julia\n",
    "5. SQL"
   ]
  },
  {
   "cell_type": "markdown",
   "id": "83a2f556-c5d1-41f5-84e9-80c6f45ea42a",
   "metadata": {},
   "source": [
    "Some of the commonly used libraries used by Data Scientists include:\n",
    "* NumPy\n",
    "* Pandas\n",
    "* Matplotlib\n",
    "* Scikit-learn"
   ]
  },
  {
   "cell_type": "markdown",
   "id": "9814fcc4-22aa-4750-abf6-6d2471eabd8d",
   "metadata": {},
   "source": [
    "\n",
    "| Data Science Tools |\n",
    "|--------------------|\n",
    "|GitHub|\n",
    "|Jupyter Notebooks|\n",
    "|R Studio|\n",
    "\n"
   ]
  },
  {
   "cell_type": "markdown",
   "id": "5104df31-ed64-405d-a3b5-0b4b54f0b331",
   "metadata": {},
   "source": [
    "### Below are a few examples of evaluating arithmetic expressions in Python."
   ]
  },
  {
   "cell_type": "code",
   "execution_count": 6,
   "id": "561e824f-e8ab-4b46-976f-a71980ede687",
   "metadata": {},
   "outputs": [
    {
     "data": {
      "text/plain": [
       "17"
      ]
     },
     "execution_count": 6,
     "metadata": {},
     "output_type": "execute_result"
    }
   ],
   "source": [
    "# This is a arithmetic expression to multiply then add integers\n",
    "(3*4)+5"
   ]
  },
  {
   "cell_type": "code",
   "execution_count": 9,
   "id": "296c9665-3c2a-488c-b99b-2ddc481077b2",
   "metadata": {},
   "outputs": [
    {
     "data": {
      "text/plain": [
       "3.3333333333333335"
      ]
     },
     "execution_count": 9,
     "metadata": {},
     "output_type": "execute_result"
    }
   ],
   "source": [
    "# This will convert 200 minutes to hours by dividing by 60\n",
    "200/60"
   ]
  },
  {
   "cell_type": "markdown",
   "id": "51301921-6028-4cca-8723-f1c3263e2ae9",
   "metadata": {},
   "source": []
  }
 ],
 "metadata": {
  "kernelspec": {
   "display_name": "Python",
   "language": "python",
   "name": "conda-env-python-py"
  },
  "language_info": {
   "codemirror_mode": {
    "name": "ipython",
    "version": 3
   },
   "file_extension": ".py",
   "mimetype": "text/x-python",
   "name": "python",
   "nbconvert_exporter": "python",
   "pygments_lexer": "ipython3",
   "version": "3.7.12"
  }
 },
 "nbformat": 4,
 "nbformat_minor": 5
}
